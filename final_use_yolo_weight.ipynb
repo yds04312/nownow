{
  "nbformat": 4,
  "nbformat_minor": 0,
  "metadata": {
    "colab": {
      "name": "final_use_yolo_weight",
      "provenance": [],
      "mount_file_id": "14ITm-PhsY2rW1Na0MJDEwOM8XB7Hzt5g",
      "authorship_tag": "ABX9TyNPAZg1Fou0jPsruxHrjAlZ",
      "include_colab_link": true
    },
    "kernelspec": {
      "name": "python3",
      "display_name": "Python 3"
    },
    "language_info": {
      "name": "python"
    }
  },
  "cells": [
    {
      "cell_type": "markdown",
      "metadata": {
        "id": "view-in-github",
        "colab_type": "text"
      },
      "source": [
        "<a href=\"https://colab.research.google.com/github/yds04312/nownow/blob/master/final_use_yolo_weight.ipynb\" target=\"_parent\"><img src=\"https://colab.research.google.com/assets/colab-badge.svg\" alt=\"Open In Colab\"/></a>"
      ]
    },
    {
      "cell_type": "markdown",
      "metadata": {
        "id": "IrUMEz-TSJJS"
      },
      "source": [
        "훈련된 가중치와 cfg, name 파일을 가지고\n",
        "실제로 웹 어플리케이션에 적용해보기 위해 값 추출하기!"
      ]
    },
    {
      "cell_type": "markdown",
      "metadata": {
        "id": "2nHWJwJw_w92"
      },
      "source": [
        "https://bong-sik.tistory.com/16 님 코드를 참고하였습니다! "
      ]
    },
    {
      "cell_type": "code",
      "metadata": {
        "colab": {
          "base_uri": "https://localhost:8080/"
        },
        "id": "StcvS4Wc2aEY",
        "outputId": "5ec7b8a1-9a18-46d8-98ee-52a4c014b3a7"
      },
      "source": [
        "!pip install opencv-python"
      ],
      "execution_count": null,
      "outputs": [
        {
          "output_type": "stream",
          "text": [
            "Requirement already satisfied: opencv-python in /usr/local/lib/python3.7/dist-packages (4.1.2.30)\n",
            "Requirement already satisfied: numpy>=1.14.5 in /usr/local/lib/python3.7/dist-packages (from opencv-python) (1.19.5)\n"
          ],
          "name": "stdout"
        }
      ]
    },
    {
      "cell_type": "code",
      "metadata": {
        "colab": {
          "base_uri": "https://localhost:8080/"
        },
        "id": "xJbcLyFM3OoG",
        "outputId": "217aa932-8244-4867-c4ab-0608a5ed760a"
      },
      "source": [
        "import cv2\n",
        "print(cv2.__version__)"
      ],
      "execution_count": null,
      "outputs": [
        {
          "output_type": "stream",
          "text": [
            "4.1.2\n"
          ],
          "name": "stdout"
        }
      ]
    },
    {
      "cell_type": "code",
      "metadata": {
        "colab": {
          "base_uri": "https://localhost:8080/"
        },
        "id": "2E1KtthZ3dwj",
        "outputId": "86edd39c-b600-4490-fa5a-bac0ec342a92"
      },
      "source": [
        "%cd /content/drive/MyDrive/use"
      ],
      "execution_count": null,
      "outputs": [
        {
          "output_type": "stream",
          "text": [
            "/content/drive/MyDrive/use\n"
          ],
          "name": "stdout"
        }
      ]
    },
    {
      "cell_type": "code",
      "metadata": {
        "id": "Yv79_2nQ3YiN"
      },
      "source": [
        "import cv2\n",
        "import numpy as np\n",
        "from google.colab.patches import cv2_imshow\n",
        "\n",
        "# Yolo 로드\n",
        "net = cv2.dnn.readNet(\"confirm_yolov3_custom_train_2000.weights\", \"yolov3_custom_train.cfg\")\n",
        "classes = []\n",
        "with open(\"yolo.names\", \"r\") as f:\n",
        "    classes = [line.strip() for line in f.readlines()]\n",
        "layer_names = net.getLayerNames()\n",
        "output_layers = [layer_names[i[0] - 1] for i in net.getUnconnectedOutLayers()]\n",
        "colors = np.random.uniform(0, 255, size=(len(classes), 3))\n",
        "\n",
        "# 이미지 가져오기\n",
        "img = cv2.imread(\"test_chin_9.jpg\")\n",
        "img = cv2.resize(img, None, fx=0.4, fy=0.4)\n",
        "height, width, channels = img.shape\n",
        "\n",
        "# Detecting objects\n",
        "blob = cv2.dnn.blobFromImage(img, 0.00392, (608, 608), (0, 0, 0), True, crop=False)\n",
        "net.setInput(blob)\n",
        "outs = net.forward(output_layers)\n",
        "\n",
        "\n",
        "# 정보를 화면에 표시\n",
        "class_ids = []\n",
        "confidences = []\n",
        "boxes = []\n",
        "for out in outs:\n",
        "    for detection in out:\n",
        "        scores = detection[5:]\n",
        "        class_id = np.argmax(scores)\n",
        "        confidence = scores[class_id]\n",
        "        if confidence > 0.7:\n",
        "            # Object detected\n",
        "            print(confidence)\n",
        "            center_x = int(detection[0] * width)\n",
        "            center_y = int(detection[1] * height)\n",
        "            w = int(detection[2] * width)\n",
        "            h = int(detection[3] * height)\n",
        "            # 좌표\n",
        "            x = int(center_x - w / 2)\n",
        "            y = int(center_y - h / 2)\n",
        "            boxes.append([x, y, w, h])\n",
        "            confidences.append(float(confidence))\n",
        "            class_ids.append(class_id)\n",
        "                   \n",
        "indexes = cv2.dnn.NMSBoxes(boxes, confidences, 0.4, 0.4)\n",
        "\n",
        "\n",
        "font = cv2.FONT_HERSHEY_PLAIN\n",
        "for i in range(len(boxes)):\n",
        "    if i in indexes:\n",
        "        x, y, w, h = boxes[i]\n",
        "        label = str(classes[class_ids[i]])\n",
        "        color = colors[i]\n",
        "        cv2.rectangle(img, (x, y), (x + w, y + h), color, 2)\n",
        "        cv2.putText(img, label, (x, y + 30), font, 3, color, 3)\n",
        "\n",
        "cv2_imshow(img)\n",
        "cv2.waitKey(0)\n",
        "cv2.destroyAllWindows()\n"
      ],
      "execution_count": null,
      "outputs": []
    }
  ]
}