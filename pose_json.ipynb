{
  "nbformat": 4,
  "nbformat_minor": 0,
  "metadata": {
    "colab": {
      "name": "pose_json.ipynb",
      "provenance": [],
      "authorship_tag": "ABX9TyM7pLVyNDcS5Ps7Yy1min2U",
      "include_colab_link": true
    },
    "kernelspec": {
      "name": "python3",
      "display_name": "Python 3"
    }
  },
  "cells": [
    {
      "cell_type": "markdown",
      "metadata": {
        "id": "view-in-github",
        "colab_type": "text"
      },
      "source": [
        "<a href=\"https://colab.research.google.com/github/yds04312/nownow/blob/master/pose_json.ipynb\" target=\"_parent\"><img src=\"https://colab.research.google.com/assets/colab-badge.svg\" alt=\"Open In Colab\"/></a>"
      ]
    },
    {
      "cell_type": "markdown",
      "metadata": {
        "id": "ZBrNST7FkXL7"
      },
      "source": [
        "https://popcorn16.tistory.com/121\r\n"
      ]
    },
    {
      "cell_type": "markdown",
      "metadata": {
        "id": "FVWNOW-BjGnZ"
      },
      "source": [
        ""
      ]
    },
    {
      "cell_type": "code",
      "metadata": {
        "id": "0fGVMvI0WNx2",
        "colab": {
          "base_uri": "https://localhost:8080/"
        },
        "outputId": "e0201c2c-2218-4cb9-8bdb-feb1252a078b"
      },
      "source": [
        "from google.colab import drive\n",
        "drive.mount('/content/drive')"
      ],
      "execution_count": 1,
      "outputs": [
        {
          "output_type": "stream",
          "text": [
            "Mounted at /content/drive\n"
          ],
          "name": "stdout"
        }
      ]
    },
    {
      "cell_type": "markdown",
      "metadata": {
        "id": "ZZTmHDZmNh46"
      },
      "source": [
        "알고리즘 순서\r\n",
        "\r\n",
        "- 1.true data 확정 (거북목 길이 (0-1 위치값이 사람마다 다르므로)  데이터 저장요량: 근데 이 기존의 true data  활용하여 추가로 할 것 찾아보기\r\n",
        "(기존의 자세 확인 코드와 동일한 루프를 돌리면 좋을듯))\r\n",
        "\r\n",
        "- 2. 기존의 자세확인 코드\r\n",
        "\r\n"
      ]
    },
    {
      "cell_type": "markdown",
      "metadata": {
        "id": "EQX1H5R2lugh"
      },
      "source": [
        "<false 자세>\r\n",
        "\r\n",
        "* 화면 상에서 아예 위의 부분 중 한 부분이라도 안보이는 경우 \r\n",
        "이 코드를 가장 위에 넣어야할듯. 예를 들어 15,16,17,18 0 만 보이고 나머지 어깨완련 정보(2,1,5)는 검출이 되지 않는 경우 / 반대의 경우도 포함\r\n",
        "\r\n",
        "\r\n",
        "\r\n",
        "\r\n",
        "* 화면 상에 0,15,16,17,18,2,1,5 까지는 기본적으로 보이는 경우\r\n",
        "\r\n",
        "  1.어깨 불균형 : 3&6 의 기울기 (오차범위 설정)\r\n",
        "\r\n",
        "  2.거북목: 0-1 길이 (길이를 얼마나 해야하는지?)\r\n",
        "\r\n",
        "  3.비스듬한 고개: 0-1 기울기 (오차범위)\r\n",
        "\r\n",
        "  4.눈 관련 detect 가 어디까지 가능한지 확인하기\r\n",
        "턱을 괜 자세 1&7 / 1&4 (0,17,18) 가 특정 거리만큼 가까워져있는 경우.\r\n"
      ]
    },
    {
      "cell_type": "markdown",
      "metadata": {
        "id": "-NqgLkBPfHlv"
      },
      "source": [
        "# 자세를 세팅하기위한 코드! (이건 한번 쓰고 안씀!) "
      ]
    },
    {
      "cell_type": "code",
      "metadata": {
        "id": "ObfDMTtWkZP6"
      },
      "source": [
        "num_true=0\r\n",
        "num_false=0 \r\n",
        "#이건 전역변수느낌으로 초기화한거긴한데....! "
      ],
      "execution_count": null,
      "outputs": []
    },
    {
      "cell_type": "code",
      "metadata": {
        "colab": {
          "base_uri": "https://localhost:8080/",
          "height": 136
        },
        "id": "Jwz4SjrEehp5",
        "outputId": "765a66d2-3ec4-4c69-b861-327e2878519e"
      },
      "source": [
        "import math\r\n",
        "import json \r\n",
        "\r\n",
        "with open(\"/content/drive/MyDrive/Colab Notebooks/test_pose_000000000530_keypoints.json\") as json_file:\r\n",
        "  keydata = json.load(json_file) \r\n",
        "  jsonArray= keydata.get(\"people\")\r\n",
        "\r\n",
        "\r\n",
        "  li = []\r\n",
        "  for list in jsonArray:\r\n",
        "    li.append(list.get(\"pose_keypoints_2d\"))\r\n",
        "    print(list.get(\"pose_keypoints_2d\"))\r\n",
        "\r\n",
        "#거북목 자세를 정리하기위해서 초기 바른자세 값을 저장해야 할것 같음\r\n",
        "\r\n",
        "\r\n",
        "print(\"모니터에 당신의 바른 자세를 setting 하려고합니다! 모니터에 어깨와 얼굴이 다 나오도록 자세를 조정해주세요\")\r\n",
        "\r\n",
        "print(test)\r\n",
        "while (num_true<3 or num_false<3) :\r\n",
        "  if( \r\n",
        "     all = 0\r\n",
        "     all = li[0][0] * li[0][3] * li[0][6] * li[0][15] * li[0][45] * li[0][48] * li[0][51] * li[0][54]\r\n",
        "\r\n",
        "    if all==0 :\r\n",
        "      print(\"모니터에 어깨와 얼굴이 다 나오도록 자세를 조정해주세요!\")\r\n",
        "\r\n",
        "\r\n",
        " #어깨 불균형 \r\n",
        "   sh_y=0\r\n",
        "   sh_y= li[0][7]-li[0][16]\r\n",
        "\r\n",
        "    if  (-10 >=sh_y or sh_y >=10)  :\r\n",
        "        print(\"어깨의 대칭이 안맞아요\")\r\n",
        "\r\n",
        " #비스듬한 고개: 0-1  \r\n",
        "\r\n",
        "    neck_x = li[0][0]-li[0][3]\r\n",
        "\r\n",
        "\r\n",
        "    if  (-40 >=neck_x or neck_x>=40)  :\r\n",
        "        print(\"고개를 똑바로 하세요!\")\r\n",
        "  num_false=num_false+1\r\n",
        "\r\n",
        "  )\r\n",
        "\r\n",
        "  else:\r\n",
        "  num_true= num_true+1\r\n",
        "\r\n",
        "\r\n",
        "\r\n",
        "if(num_true==3):\r\n",
        "  print(\"올바른 자세가 저장되었습니다\")\r\n",
        "  \r\n",
        "\r\n",
        "\r\n",
        "\r\n"
      ],
      "execution_count": 19,
      "outputs": [
        {
          "output_type": "error",
          "ename": "SyntaxError",
          "evalue": "ignored",
          "traceback": [
            "\u001b[0;36m  File \u001b[0;32m\"<ipython-input-19-eb5a5f058b53>\"\u001b[0;36m, line \u001b[0;32m22\u001b[0m\n\u001b[0;31m    all = 0\u001b[0m\n\u001b[0m        ^\u001b[0m\n\u001b[0;31mSyntaxError\u001b[0m\u001b[0;31m:\u001b[0m invalid syntax\n"
          ]
        }
      ]
    },
    {
      "cell_type": "markdown",
      "metadata": {
        "id": "a1pX2MICfiSL"
      },
      "source": [
        "# 기존의 자세 교정 코드"
      ]
    },
    {
      "cell_type": "code",
      "metadata": {
        "colab": {
          "base_uri": "https://localhost:8080/"
        },
        "id": "z4-c9gtLLx1k",
        "outputId": "66d0eff9-5c03-4f2e-d368-46d32ff00b9d"
      },
      "source": [
        "# 실시간 json파일 읽어서 원하는 부분 불러옴\r\n",
        "import math\r\n",
        "import json \r\n",
        "\r\n",
        "with open(\"/content/drive/MyDrive/Colab Notebooks/test_pose_000000000530_keypoints.json\") as json_file:\r\n",
        "  keydata = json.load(json_file) \r\n",
        "  jsonArray= keydata.get(\"people\")\r\n",
        "\r\n",
        "\r\n",
        "  li = []\r\n",
        "  for list in jsonArray:\r\n",
        "    li.append(list.get(\"pose_keypoints_2d\"))\r\n",
        "    print(list.get(\"pose_keypoints_2d\"))\r\n",
        "\r\n",
        "  \r\n",
        "  #li 라는 2차원 배열에 저장된 위치값들  \r\n",
        "  #3k=x위치, 3k+1=y위치 3k+2=신뢰구간\r\n",
        "\r\n",
        "\r\n",
        "\r\n",
        "\r\n",
        "\r\n",
        "  \r\n",
        "\r\n",
        "#아예 필요한 모든 관절이 모니터상에 없는 경우 : 가장 첫번쨰에 떠야할 알람!\r\n",
        "#어떤 자세이든 간에 일단 꼭 검출이 되어야 하는 data는 0,1 2,5,15,16,17,18 이 포인트들은 무조건 검출이 되어야함\r\n",
        "# 하나라도 0 값이 나온다면 모니터에 어깨와 얼굴이 다 나오도록 자세를 조정해주세요! 라는 알림을 보낸다. \r\n",
        "\r\n",
        "  #all=0\r\n",
        "  #all=(li[0][0]*li[0][3]*li[0][6]*li[0][15]*li[0][45]*li[0][48]*li[0][51]*li[0][54])\r\n",
        "\r\n",
        "  if all==0 :\r\n",
        "    print(\"모니터에 어깨와 얼굴이 다 나오도록 자세를 조정해주세요!\")\r\n",
        "  else:\r\n",
        "    print (\"좋은 자세입니다\")\r\n",
        "  #이게 if문을 해결못하면 계속 false, 이걸 해결하면 아래의 조건식으로 넘어가게!\r\n",
        "\r\n",
        "\r\n",
        " #어깨 불균형 : point 2&5 의 기울기 말고 그냥 y 좌표로 하면 안될까? (오차범위 설정)\r\n",
        "  sh_y=0\r\n",
        "  sh_y= li[0][7]-li[0][16]\r\n",
        "\r\n",
        "  if  (-10 >=sh_y or sh_y >=10)  :\r\n",
        "        print(\"어깨의 대칭이 안맞아요\")\r\n",
        "  else :\r\n",
        "        print(\"어깨 자세가 좋아요!\")\r\n",
        " \r\n",
        " \r\n",
        "\r\n",
        " #비스듬한 고개: 0-1  x축 위치 차이가 잘못된 자세의 경우 100이상 차이가 난다. 바른 자세는 거의 차이가 안남 (10 정도?)\r\n",
        "\r\n",
        "  neck_x = li[0][0]-li[0][3]\r\n",
        "\r\n",
        "\r\n",
        "  if  (-40 >=neck_x or neck_x>=40)  :\r\n",
        "        print(\"고개를 똑바로 하세요!\")\r\n",
        "  else :\r\n",
        "        print(\"고개 자세가 바르군요\")\r\n",
        " \r\n",
        "\r\n",
        "\r\n",
        "\r\n",
        "#거북목: 0-1 #단순히 길이뿐만 아니라 각 관절들의 비율을 찾아야할듯 \r\n",
        "\r\n",
        "  stan_len=150 \r\n",
        "  #이때의 stan_len 값은 true 라고 확정된 상태의 목의 길이 값(초기 사용 시 사용자에게 해당 값을 고정할 시간을 마련한다.)\r\n",
        "  \r\n",
        "  #neck_x 는 바로 위에 있음\r\n",
        "\r\n",
        "  neck_y= li[0][1]-li[0][4]\r\n",
        "\r\n",
        "  new_turtle = math.sqrt((neck_x  ** 2) + (neck_y ** 2))\r\n",
        "  stan_ang= 15 / 180\r\n",
        "  \r\n",
        "  com_turtle= math.cos(stan_ang*math.pi)*stan_len\r\n",
        "\r\n",
        "  if new_turtle < com_turtle :\r\n",
        "    print (\"거북목 위험 자세입니다! 고개를 턱 쪽으로 당이고 허리를 펴주세요\")\r\n",
        "  else :\r\n",
        "    print(\"거북목 위험 자세가 아니에요\")\r\n",
        "\r\n",
        " #턱을 괜 자세 1&7 / 1&4 (0,17,18) 가 특정 거리만큼 가까워져있는 경우.\r\n",
        " #이 부분 너무 어려움\r\n",
        " \r\n",
        " \r\n",
        " \r\n",
        "  #눈 관련 detect 가 어디까지 가능한지 확인하기 \r\n",
        "  #눈의 이동은 바로 잘 알아채지만 동일 위치에서의 눈동자만의 이동은 잘 인식하지 못하는 것 같다. \r\n"
      ],
      "execution_count": 16,
      "outputs": [
        {
          "output_type": "stream",
          "text": [
            "[621.581, 474.606, 0.579693, 613.693, 623.508, 0.21626, 290.449, 588.223, 0.141402, 0, 0, 0, 0, 0, 0, 936.963, 596.062, 0.232743, 0, 0, 0, 0, 0, 0, 0, 0, 0, 0, 0, 0, 0, 0, 0, 0, 0, 0, 0, 0, 0, 0, 0, 0, 0, 0, 0, 527.512, 366.924, 0.718794, 729.326, 368.891, 0.727379, 427.525, 327.688, 0.56027, 807.688, 392.332, 0.373271, 0, 0, 0, 0, 0, 0, 0, 0, 0, 0, 0, 0, 0, 0, 0, 0, 0, 0]\n",
            "좋은 자세입니다\n",
            "어깨 자세가 좋아요!\n",
            "고개 자세가 바르군요\n",
            "거북목 위험 자세가 아니에요\n"
          ],
          "name": "stdout"
        }
      ]
    },
    {
      "cell_type": "markdown",
      "metadata": {
        "id": "OZTSwcpro6GC"
      },
      "source": [
        "0부터 25까지 (뒷배경 포함) \r\n",
        "배열은 지금 [0][i]에 저장되어있음! 그렇다면 내가 원하는 부분을 어떻게 추출? \r\n",
        "\r\n",
        "총 78개의 data들중에서 필요한 지점의 data들을 비교하여 써야함.\r\n",
        "\r\n",
        "0. {0,  \"Nose\"},   \r\n",
        "1. {3,  \"Neck\"},   \r\n",
        "2.{6,  \"RShoulder\"},//  \r\n",
        "3.{9,  \"RElbow\"},//    \r\n",
        "4. {12,  \"RWrist\"},//    \r\n",
        "5.{15,  \"LShoulder\"},//     \r\n",
        "6.{18,  \"LElbow\"},//    \r\n",
        "7.{21,  \"LWrist\"},//   \r\n",
        "8.{24,  \"MidHip\"},// \r\n",
        "9.{27,  \"RHip\"},//  \r\n",
        "10.{30, \"RKnee\"},//    \r\n",
        "11. {33, \"RAnkle\"},//     \r\n",
        "12.{36, \"LHip\"},//  \r\n",
        "13.{39, \"LKnee\"},//    \r\n",
        "14.{42, \"LAnkle\"},//     \r\n",
        "15.{45, \"REye\"},//  \r\n",
        "16.{48, \"LEye\"},//   \r\n",
        "17.{51, \"REar\"},// \r\n",
        "18.{54, \"LEar\"},//   \r\n",
        "19.{57, \"LBigToe\"},//     \r\n",
        "20.{60, \"LSmallToe\"},//     \r\n",
        "21.{63, \"LHeel\"},//     \r\n",
        "22.{66, \"RBigToe\"},//     \r\n",
        "23.{69, \"RSmallToe\"},//     \r\n",
        "24.{72, \"RHeel\"},//     \r\n",
        "25.{75, \"Background\"}\r\n"
      ]
    },
    {
      "cell_type": "code",
      "metadata": {
        "id": "-X4kSnU3k8oj"
      },
      "source": [
        ""
      ],
      "execution_count": null,
      "outputs": []
    }
  ]
}