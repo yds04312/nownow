{
  "nbformat": 4,
  "nbformat_minor": 0,
  "metadata": {
    "colab": {
      "name": "set_cv_model.ipynb",
      "provenance": [],
      "authorship_tag": "ABX9TyN7R44I+e6gd7I/YdI8BoQ9",
      "include_colab_link": true
    },
    "kernelspec": {
      "name": "python3",
      "display_name": "Python 3"
    },
    "accelerator": "GPU"
  },
  "cells": [
    {
      "cell_type": "markdown",
      "metadata": {
        "id": "view-in-github",
        "colab_type": "text"
      },
      "source": [
        "<a href=\"https://colab.research.google.com/github/yds04312/nownow/blob/master/set_cv_model.ipynb\" target=\"_parent\"><img src=\"https://colab.research.google.com/assets/colab-badge.svg\" alt=\"Open In Colab\"/></a>"
      ]
    },
    {
      "cell_type": "code",
      "metadata": {
        "id": "bJf4wRwmPSq_"
      },
      "source": [
        "%cd /content\n",
        "!git clone https://github.com/opencv/opencv\n",
        "!git clone https://github.com/opencv/opencv_contrib\n",
        "!mkdir /content/build\n",
        "%cd /content/build\n",
        "!cmake -DOPENCV_EXTRA_MODULES_PATH=/content/opencv_contrib/modules  -DBUILD_SHARED_LIBS=OFF  -DBUILD_TESTS=OFF  -DBUILD_PERF_TESTS=OFF -DBUILD_EXAMPLES=OFF -DWITH_OPENEXR=OFF -DWITH_CUDA=ON -DWITH_CUBLAS=ON -DWITH_CUDNN=ON -DOPENCV_DNN_CUDA=ON /content/opencv\n",
        "!make -j8 install"
      ],
      "execution_count": null,
      "outputs": []
    },
    {
      "cell_type": "code",
      "metadata": {
        "colab": {
          "base_uri": "https://localhost:8080/",
          "height": 35
        },
        "id": "KsZ4QIMVxJpC",
        "outputId": "b81f94d1-c78f-4bd1-9513-b12438884452"
      },
      "source": [
        "import cv2\n",
        "cv2.__version__"
      ],
      "execution_count": null,
      "outputs": [
        {
          "output_type": "execute_result",
          "data": {
            "application/vnd.google.colaboratory.intrinsic+json": {
              "type": "string"
            },
            "text/plain": [
              "'4.5.2-pre'"
            ]
          },
          "metadata": {
            "tags": []
          },
          "execution_count": 3
        }
      ]
    },
    {
      "cell_type": "code",
      "metadata": {
        "id": "SZyRfB2lxVHU"
      },
      "source": [
        "import cv2\n",
        "\n",
        "\n",
        "\n",
        "\n",
        "protoFile = \"/content/drive/MyDrive/Colab Notebooks/openpose-master/models/pose/body_25/pose_deploy.prototxt\"\n",
        "weightsFile = \"/content/drive/MyDrive/Colab Notebooks/openpose-master/models/pose/body_25/pose_iter_584000.caffemodel\"\n",
        "\n",
        "net = cv2.dnn.readNetFromCaffe(protoFile, weightsFile)\n",
        "\n",
        "net.setPreferableBackend(cv2.dnn.DNN_BACKEND_CUDA)\n",
        "net.setPreferableTarget(cv2.dnn.DNN_TARGET_CUDA)"
      ],
      "execution_count": null,
      "outputs": []
    },
    {
      "cell_type": "code",
      "metadata": {
        "colab": {
          "base_uri": "https://localhost:8080/"
        },
        "id": "hil2VlQExkOI",
        "outputId": "322ef267-eec9-4133-f77c-ac0ab8f0b03f"
      },
      "source": [
        "from google.colab import drive\n",
        "drive.mount('/content/drive')"
      ],
      "execution_count": null,
      "outputs": [
        {
          "output_type": "stream",
          "text": [
            "Mounted at /content/drive\n"
          ],
          "name": "stdout"
        }
      ]
    },
    {
      "cell_type": "code",
      "metadata": {
        "colab": {
          "base_uri": "https://localhost:8080/"
        },
        "id": "c0gPbDslxaXL",
        "outputId": "68e91260-22d3-4fe1-e208-f934961e97d6"
      },
      "source": [
        "!mkdir  \"/content/drive/MyDrive/cv2_gpu\"\n",
        "!cp  /content/build/lib/python3/cv2.cpython-37m-x86_64-linux-gnu.so   \"/content/drive/MyDrive/cv2_gpu\"\n"
      ],
      "execution_count": null,
      "outputs": [
        {
          "output_type": "stream",
          "text": [
            "mkdir: cannot create directory ‘/content/drive/MyDrive/cv2_gpu’: File exists\n"
          ],
          "name": "stdout"
        }
      ]
    },
    {
      "cell_type": "markdown",
      "metadata": {
        "id": "rptpHT4H16Yo"
      },
      "source": [
        "Google 드라이브를 마운트하지 않으려면 클라우드 어딘가에 업로드하고 !wget작업 디렉토리를 사용하여 다운로드 할 수 있습니다."
      ]
    },
    {
      "cell_type": "code",
      "metadata": {
        "id": "-YQkf3U7ys7e"
      },
      "source": [
        "!cp \"/content/drive/MyDrive/cv2_gpu/cv2.cpython-37m-x86_64-linux-gnu.so\" ."
      ],
      "execution_count": null,
      "outputs": []
    }
  ]
}