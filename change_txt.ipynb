{
  "nbformat": 4,
  "nbformat_minor": 0,
  "metadata": {
    "colab": {
      "name": "change_txt.ipynb",
      "provenance": [],
      "collapsed_sections": [],
      "mount_file_id": "1_QiYjoBzbkF7gqJk2bh0D9EwhkbM-XhV",
      "authorship_tag": "ABX9TyPLVIvlGm2/xnEgdgJN0m3Z",
      "include_colab_link": true
    },
    "kernelspec": {
      "name": "python3",
      "display_name": "Python 3"
    },
    "language_info": {
      "name": "python"
    }
  },
  "cells": [
    {
      "cell_type": "markdown",
      "metadata": {
        "id": "view-in-github",
        "colab_type": "text"
      },
      "source": [
        "<a href=\"https://colab.research.google.com/github/yds04312/nownow/blob/master/change_txt.ipynb\" target=\"_parent\"><img src=\"https://colab.research.google.com/assets/colab-badge.svg\" alt=\"Open In Colab\"/></a>"
      ]
    },
    {
      "cell_type": "code",
      "metadata": {
        "id": "1zrZ3DRHXBoi"
      },
      "source": [
        "import os.path\n",
        "\n",
        "\n",
        "filelist=[]\n",
        "targerdir = r\"C:/Users/Downloads/setdata/ordered_chin/ordered_chin_img\"\n",
        "\n",
        "f = open('C:/testsql/train2.txt', mode='wt', encoding='utf-8')\n",
        "\n",
        "files = os.listdir(targerdir)\n",
        "\n",
        "for i in files :\n",
        "    f.write(i)\n",
        "    f.write('\\n')\n",
        "\n",
        "f.close()\n"
      ],
      "execution_count": null,
      "outputs": []
    },
    {
      "cell_type": "code",
      "metadata": {
        "id": "jzphI-qIBK8c"
      },
      "source": [
        "#colab에서 돌리기 위해 train.txt 를 바꾸어주는 코드\n",
        "\n",
        "import os\n",
        "\n",
        "txt = open('/content/drive/MyDrive/Colab Notebooks/yolodata/train.txt','r') \n",
        "f = open('/content/drive/MyDrive/Colab Notebooks/yolodata/train2.txt','w') \n",
        "while True : \n",
        "  line = txt.readline() \n",
        "  fname= os.path.basename(line)\n",
        "  if not line: \n",
        "    break \n",
        "  f.write('/content/darknet/data/custom/images/'+fname) \n",
        "txt.close() \n",
        "f.close()\n",
        "\n"
      ],
      "execution_count": null,
      "outputs": []
    }
  ]
}